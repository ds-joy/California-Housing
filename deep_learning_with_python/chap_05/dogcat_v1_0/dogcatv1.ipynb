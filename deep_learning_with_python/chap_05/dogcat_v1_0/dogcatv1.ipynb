{
  "nbformat": 4,
  "nbformat_minor": 0,
  "metadata": {
    "colab": {
      "name": "dogcatv1.ipynb",
      "provenance": [],
      "mount_file_id": "1i7Ai-95xhCM8lDifOWE0-GXs28qAHVjX",
      "authorship_tag": "ABX9TyOIQPjwS/0WCKR4SiVv7svq",
      "include_colab_link": true
    },
    "kernelspec": {
      "name": "python3",
      "display_name": "Python 3"
    }
  },
  "cells": [
    {
      "cell_type": "markdown",
      "metadata": {
        "id": "view-in-github",
        "colab_type": "text"
      },
      "source": [
        "<a href=\"https://colab.research.google.com/github/ds-joy/ML-Practice/blob/master/deep_learning_with_python/chap_05/dogcat_v1_0/dogcatv1.ipynb\" target=\"_parent\"><img src=\"https://colab.research.google.com/assets/colab-badge.svg\" alt=\"Open In Colab\"/></a>"
      ]
    },
    {
      "cell_type": "markdown",
      "metadata": {
        "id": "tTzWajpAqSb8",
        "colab_type": "text"
      },
      "source": [
        "#Loading data into google drive"
      ]
    },
    {
      "cell_type": "code",
      "metadata": {
        "id": "3gASCGxUqW-3",
        "colab_type": "code",
        "colab": {}
      },
      "source": [
        "from google.colab import drive\n",
        "drive.mount('/content/drive')"
      ],
      "execution_count": null,
      "outputs": []
    },
    {
      "cell_type": "code",
      "metadata": {
        "id": "acD74SucqaIf",
        "colab_type": "code",
        "colab": {}
      },
      "source": [
        "#creating the path where to load the data\n",
        "% cd /content/drive/My Drive/Colab Notebooks/dogcatv1"
      ],
      "execution_count": null,
      "outputs": []
    },
    {
      "cell_type": "code",
      "metadata": {
        "id": "uUhcmKO0qpCV",
        "colab_type": "code",
        "colab": {}
      },
      "source": [
        "from google.colab import files\n",
        "files.upload()"
      ],
      "execution_count": null,
      "outputs": []
    },
    {
      "cell_type": "code",
      "metadata": {
        "id": "bdzr79RyrDgF",
        "colab_type": "code",
        "colab": {}
      },
      "source": [
        "!mkdir -p ~/.kaggle\n",
        "!cp kaggle.json ~/.kaggle/\n",
        "!chmod 600 ~/.kaggle/kaggle.json\n",
        "!rm kaggle.json"
      ],
      "execution_count": null,
      "outputs": []
    },
    {
      "cell_type": "code",
      "metadata": {
        "id": "jR46Gcu2rJnI",
        "colab_type": "code",
        "colab": {}
      },
      "source": [
        "!kaggle competitions download -c dogs-vs-cats"
      ],
      "execution_count": null,
      "outputs": []
    },
    {
      "cell_type": "code",
      "metadata": {
        "id": "L6SxFpwtrgxw",
        "colab_type": "code",
        "colab": {
          "base_uri": "https://localhost:8080/",
          "height": 34
        },
        "outputId": "fb8756bf-3fdf-4c26-9404-6cbc1581bd08"
      },
      "source": [
        "!ls"
      ],
      "execution_count": 2,
      "outputs": [
        {
          "output_type": "stream",
          "text": [
            "sample_data\n"
          ],
          "name": "stdout"
        }
      ]
    },
    {
      "cell_type": "code",
      "metadata": {
        "id": "dmcluGB61fkp",
        "colab_type": "code",
        "colab": {}
      },
      "source": [
        "!unzip test1.zip\n",
        "!unzip train.zip"
      ],
      "execution_count": null,
      "outputs": []
    },
    {
      "cell_type": "markdown",
      "metadata": {
        "id": "xqwNM61huUko",
        "colab_type": "text"
      },
      "source": [
        "#Creating test and train directories"
      ]
    },
    {
      "cell_type": "code",
      "metadata": {
        "id": "MJ2CWhe2rnlF",
        "colab_type": "code",
        "colab": {}
      },
      "source": [
        "import os, shutil\n",
        "original_dataset_dir = '/content/drive/My Drive/Colab Notebooks/dogcatv1/'\n",
        "base_dir = '/content/drive/My Drive/Colab Notebooks/dogcatv1/data'"
      ],
      "execution_count": 18,
      "outputs": []
    },
    {
      "cell_type": "markdown",
      "metadata": {
        "id": "yeRqL4K8vYVW",
        "colab_type": "text"
      },
      "source": [
        "###Test, validation and train directories"
      ]
    },
    {
      "cell_type": "code",
      "metadata": {
        "id": "N3570-g-unfZ",
        "colab_type": "code",
        "colab": {}
      },
      "source": [
        "#train directories\n",
        "train_dir = os.path.join(base_dir, 'train')\n",
        "# os.mkdir(train_dir)\n",
        "\n",
        "#validation directories\n",
        "validation_dir = os.path.join(base_dir, 'validation')\n",
        "# os.mkdir(validation_dir)\n",
        "\n",
        "#test directories\n",
        "test_dir = os.path.join(base_dir, 'test')\n",
        "# os.mkdir(test_dir)"
      ],
      "execution_count": 19,
      "outputs": []
    },
    {
      "cell_type": "markdown",
      "metadata": {
        "id": "Ic5II9YpwAoX",
        "colab_type": "text"
      },
      "source": [
        "###Separating cats and dogs directories"
      ]
    },
    {
      "cell_type": "code",
      "metadata": {
        "id": "MQqXMj85v0ma",
        "colab_type": "code",
        "colab": {}
      },
      "source": [
        "train_cats_dir = os.path.join(train_dir, 'cats')\n",
        "# os.mkdir(train_cats_dir)\n",
        "\n",
        "train_dogs_dir = os.path.join(train_dir, 'dogs')\n",
        "# os.mkdir(train_dogs_dir)\n",
        "\n",
        "validation_cats_dir = os.path.join(validation_dir, 'cats')\n",
        "# os.mkdir(validation_cats_dir)\n",
        "\n",
        "validation_dogs_dir = os.path.join(validation_dir, 'dogs')\n",
        "# os.mkdir(validation_dogs_dir)\n",
        "\n",
        "test_cats_dir = os.path.join(test_dir, 'cats')\n",
        "# os.mkdir(test_cats_dir)\n",
        "\n",
        "test_dogs_dir = os.path.join(test_dir, 'dogs')\n",
        "# os.mkdir(test_dogs_dir)"
      ],
      "execution_count": 20,
      "outputs": []
    },
    {
      "cell_type": "code",
      "metadata": {
        "id": "DeVfPs87EDFs",
        "colab_type": "code",
        "colab": {}
      },
      "source": [
        "original_dataset_dir = os.path.join(original_dataset_dir, 'train')\n",
        "from tqdm import tqdm"
      ],
      "execution_count": 21,
      "outputs": []
    },
    {
      "cell_type": "markdown",
      "metadata": {
        "id": "69sr2s5GyJu4",
        "colab_type": "text"
      },
      "source": [
        "###Separating cat photos"
      ]
    },
    {
      "cell_type": "code",
      "metadata": {
        "id": "BiSdm6bXwouH",
        "colab_type": "code",
        "colab": {
          "base_uri": "https://localhost:8080/",
          "height": 67
        },
        "outputId": "5f89eba7-420c-4354-922e-85a8d2559150"
      },
      "source": [
        "# 1000 training photos\n",
        "fnames = ['cat.{}.jpg'.format(i) for i in range(1000)]\n",
        "for fname in tqdm(fnames):\n",
        "    src = os.path.join(original_dataset_dir, fname)\n",
        "    dst = os.path.join(train_cats_dir, fname)\n",
        "    shutil.copyfile(src, dst)\n",
        "\n",
        "# 500 validation photos\n",
        "fnames = ['cat.{}.jpg'.format(i) for i in range(1000, 1500)]\n",
        "for fname in tqdm(fnames):\n",
        "    src = os.path.join(original_dataset_dir, fname)\n",
        "    dst = os.path.join(validation_cats_dir, fname)\n",
        "    shutil.copyfile(src, dst)\n",
        "    \n",
        "# 500 testing photos\n",
        "fnames = ['cat.{}.jpg'.format(i) for i in range(1500, 2000)]\n",
        "for fname in tqdm(fnames):\n",
        "    src = os.path.join(original_dataset_dir, fname)\n",
        "    dst = os.path.join(test_cats_dir, fname)\n",
        "    shutil.copyfile(src, dst)"
      ],
      "execution_count": 17,
      "outputs": [
        {
          "output_type": "stream",
          "text": [
            "100%|██████████| 1000/1000 [01:38<00:00, 10.15it/s]\n",
            "100%|██████████| 500/500 [03:10<00:00,  2.63it/s]\n",
            "100%|██████████| 500/500 [03:00<00:00,  2.77it/s]\n"
          ],
          "name": "stderr"
        }
      ]
    },
    {
      "cell_type": "markdown",
      "metadata": {
        "id": "3dDi5RHa24kN",
        "colab_type": "text"
      },
      "source": [
        "###Separating dog photos"
      ]
    },
    {
      "cell_type": "code",
      "metadata": {
        "id": "dnbuA5yJzUWl",
        "colab_type": "code",
        "colab": {
          "base_uri": "https://localhost:8080/",
          "height": 67
        },
        "outputId": "6d4b19f4-3dbb-44c2-eae0-a26e8fa7b30f"
      },
      "source": [
        "fnames = ['dog.{}.jpg'.format(i) for i in range(1000)]\n",
        "for fname in tqdm(fnames):\n",
        "    src = os.path.join(original_dataset_dir, fname)\n",
        "    dst = os.path.join(train_dogs_dir, fname)\n",
        "    shutil.copyfile(src, dst)\n",
        "fnames = ['dog.{}.jpg'.format(i) for i in range(1000, 1500)]\n",
        "for fname in tqdm(fnames):\n",
        "    src = os.path.join(original_dataset_dir, fname)\n",
        "    dst = os.path.join(validation_dogs_dir, fname)\n",
        "    shutil.copyfile(src, dst)\n",
        "fnames = ['dog.{}.jpg'.format(i) for i in range(1500, 2000)]\n",
        "for fname in tqdm(fnames):\n",
        "    src = os.path.join(original_dataset_dir, fname)\n",
        "    dst = os.path.join(test_dogs_dir, fname)\n",
        "    shutil.copyfile(src, dst)"
      ],
      "execution_count": 22,
      "outputs": [
        {
          "output_type": "stream",
          "text": [
            "100%|██████████| 1000/1000 [06:18<00:00,  2.64it/s]\n",
            "100%|██████████| 500/500 [03:16<00:00,  2.55it/s]\n",
            "100%|██████████| 500/500 [02:57<00:00,  2.81it/s]\n"
          ],
          "name": "stderr"
        }
      ]
    },
    {
      "cell_type": "markdown",
      "metadata": {
        "id": "qmaB5SfC5-FV",
        "colab_type": "text"
      },
      "source": [
        "#Building The network"
      ]
    },
    {
      "cell_type": "markdown",
      "metadata": {
        "id": "g62GgnI87a-X",
        "colab_type": "text"
      },
      "source": [
        "###The model"
      ]
    },
    {
      "cell_type": "code",
      "metadata": {
        "id": "IinJfciW3V-G",
        "colab_type": "code",
        "colab": {}
      },
      "source": [
        "from keras import layers\n",
        "from keras import models\n",
        "model = models.Sequential()\n",
        "model.add(layers.Conv2D(32, (3, 3), activation='relu',\n",
        "                        input_shape=(150, 150, 3)))\n",
        "model.add(layers.MaxPooling2D((2, 2)))\n",
        "model.add(layers.Conv2D(64, (3, 3), activation='relu'))\n",
        "model.add(layers.MaxPooling2D((2, 2)))\n",
        "model.add(layers.Conv2D(128, (3, 3), activation='relu'))\n",
        "model.add(layers.MaxPooling2D((2, 2)))\n",
        "model.add(layers.Conv2D(128, (3, 3), activation='relu'))\n",
        "model.add(layers.MaxPooling2D((2, 2)))\n",
        "model.add(layers.Flatten())\n",
        "model.add(layers.Dense(512, activation='relu'))\n",
        "model.add(layers.Dense(1, activation='sigmoid'))"
      ],
      "execution_count": 23,
      "outputs": []
    },
    {
      "cell_type": "code",
      "metadata": {
        "id": "TsCT9ie77X8N",
        "colab_type": "code",
        "colab": {
          "base_uri": "https://localhost:8080/",
          "height": 521
        },
        "outputId": "04fa99ac-86a4-40cc-a048-01adfc2c05d2"
      },
      "source": [
        "model.summary()"
      ],
      "execution_count": 24,
      "outputs": [
        {
          "output_type": "stream",
          "text": [
            "Model: \"sequential\"\n",
            "_________________________________________________________________\n",
            "Layer (type)                 Output Shape              Param #   \n",
            "=================================================================\n",
            "conv2d (Conv2D)              (None, 148, 148, 32)      896       \n",
            "_________________________________________________________________\n",
            "max_pooling2d (MaxPooling2D) (None, 74, 74, 32)        0         \n",
            "_________________________________________________________________\n",
            "conv2d_1 (Conv2D)            (None, 72, 72, 64)        18496     \n",
            "_________________________________________________________________\n",
            "max_pooling2d_1 (MaxPooling2 (None, 36, 36, 64)        0         \n",
            "_________________________________________________________________\n",
            "conv2d_2 (Conv2D)            (None, 34, 34, 128)       73856     \n",
            "_________________________________________________________________\n",
            "max_pooling2d_2 (MaxPooling2 (None, 17, 17, 128)       0         \n",
            "_________________________________________________________________\n",
            "conv2d_3 (Conv2D)            (None, 15, 15, 128)       147584    \n",
            "_________________________________________________________________\n",
            "max_pooling2d_3 (MaxPooling2 (None, 7, 7, 128)         0         \n",
            "_________________________________________________________________\n",
            "flatten (Flatten)            (None, 6272)              0         \n",
            "_________________________________________________________________\n",
            "dense (Dense)                (None, 512)               3211776   \n",
            "_________________________________________________________________\n",
            "dense_1 (Dense)              (None, 1)                 513       \n",
            "=================================================================\n",
            "Total params: 3,453,121\n",
            "Trainable params: 3,453,121\n",
            "Non-trainable params: 0\n",
            "_________________________________________________________________\n"
          ],
          "name": "stdout"
        }
      ]
    },
    {
      "cell_type": "markdown",
      "metadata": {
        "id": "PF4ZJqAW75GT",
        "colab_type": "text"
      },
      "source": [
        "###Configuring the model for training"
      ]
    },
    {
      "cell_type": "code",
      "metadata": {
        "id": "tJUGzL7a7ga5",
        "colab_type": "code",
        "colab": {}
      },
      "source": [
        "from keras import optimizers\n",
        "model.compile(loss='binary_crossentropy',\n",
        "              optimizer=optimizers.RMSprop(lr=1e-4),\n",
        "              metrics=['acc'])\n"
      ],
      "execution_count": 25,
      "outputs": []
    },
    {
      "cell_type": "markdown",
      "metadata": {
        "id": "G5Uy326A8a0G",
        "colab_type": "text"
      },
      "source": [
        "#Data preprocessing"
      ]
    },
    {
      "cell_type": "markdown",
      "metadata": {
        "id": "chJfoz1l8gcI",
        "colab_type": "text"
      },
      "source": [
        "###Steps in preprocessing the data\n",
        "\n",
        "\n",
        "> 1. Read the picture files.\n",
        "2. Decode the JPEG content to RGB grids of pixels.\n",
        "3. Convert these into floating-point tensors.\n",
        "4. Rescale the pixel values (between 0 and 255) to the [0, 1] interval (as we know, neural networks prefer to deal with small input values).\n",
        "\n",
        "\n",
        "\n",
        "\n",
        "\n"
      ]
    },
    {
      "cell_type": "code",
      "metadata": {
        "id": "VHAcoBee8FzU",
        "colab_type": "code",
        "colab": {
          "base_uri": "https://localhost:8080/",
          "height": 50
        },
        "outputId": "7d7aa810-d6db-46f0-ca20-7030dc61b598"
      },
      "source": [
        "from keras.preprocessing.image import ImageDataGenerator\n",
        "\n",
        "# Rescales all images by 1/255\n",
        "train_datagen = ImageDataGenerator(rescale=1./255)\n",
        "test_datagen = ImageDataGenerator(rescale=1./255)\n",
        "\n",
        "train_generator = train_datagen.flow_from_directory(\n",
        "        train_dir, # Target directory\n",
        "        target_size=(150, 150), # Resizes all images to 150 × 150\n",
        "        batch_size=20,\n",
        "        class_mode='binary') \n",
        "        # to use binary_crossentropy loss, we need binarylabels.\n",
        "\n",
        "validation_generator = test_datagen.flow_from_directory(\n",
        "    validation_dir,\n",
        "    target_size=(150, 150),\n",
        "    batch_size=20,\n",
        "    class_mode='binary')"
      ],
      "execution_count": 27,
      "outputs": [
        {
          "output_type": "stream",
          "text": [
            "Found 2000 images belonging to 2 classes.\n",
            "Found 1000 images belonging to 2 classes.\n"
          ],
          "name": "stdout"
        }
      ]
    },
    {
      "cell_type": "code",
      "metadata": {
        "id": "rXkwtryc-L1q",
        "colab_type": "code",
        "colab": {
          "base_uri": "https://localhost:8080/",
          "height": 50
        },
        "outputId": "8d0f3f76-dd7c-408f-cce6-21421ca5c00b"
      },
      "source": [
        "for data_batch, labels_batch in train_generator:\n",
        "    print('data batch shape:', data_batch.shape)\n",
        "    print('labels batch shape:', labels_batch.shape)\n",
        "    break"
      ],
      "execution_count": 28,
      "outputs": [
        {
          "output_type": "stream",
          "text": [
            "data batch shape: (20, 150, 150, 3)\n",
            "labels batch shape: (20,)\n"
          ],
          "name": "stdout"
        }
      ]
    },
    {
      "cell_type": "markdown",
      "metadata": {
        "id": "ydCEPp6l_0qL",
        "colab_type": "text"
      },
      "source": [
        "#Model fitting"
      ]
    },
    {
      "cell_type": "markdown",
      "metadata": {
        "id": "hwhoswWw_7uB",
        "colab_type": "text"
      },
      "source": [
        "###  Fitting the model using a batch generator"
      ]
    },
    {
      "cell_type": "code",
      "metadata": {
        "id": "HnpMcJL6-7yq",
        "colab_type": "code",
        "colab": {
          "base_uri": "https://localhost:8080/",
          "height": 1000
        },
        "outputId": "2e41c5d2-2d75-4f0b-e049-d7f9d26cf30d"
      },
      "source": [
        "history = model.fit_generator(\n",
        "    train_generator,\n",
        "    steps_per_epoch=100,\n",
        "    epochs=30,\n",
        "    validation_data=validation_generator,\n",
        "    validation_steps=50)"
      ],
      "execution_count": 29,
      "outputs": [
        {
          "output_type": "stream",
          "text": [
            "WARNING:tensorflow:From <ipython-input-29-76dc69394845>:6: Model.fit_generator (from tensorflow.python.keras.engine.training) is deprecated and will be removed in a future version.\n",
            "Instructions for updating:\n",
            "Please use Model.fit, which supports generators.\n",
            "Epoch 1/30\n",
            "100/100 [==============================] - 105s 1s/step - loss: 0.6862 - acc: 0.5360 - val_loss: 0.7073 - val_acc: 0.5290\n",
            "Epoch 2/30\n",
            "100/100 [==============================] - 104s 1s/step - loss: 0.6524 - acc: 0.6160 - val_loss: 0.6448 - val_acc: 0.6170\n",
            "Epoch 3/30\n",
            "100/100 [==============================] - 105s 1s/step - loss: 0.5933 - acc: 0.6840 - val_loss: 0.6148 - val_acc: 0.6670\n",
            "Epoch 4/30\n",
            "100/100 [==============================] - 102s 1s/step - loss: 0.5566 - acc: 0.7035 - val_loss: 0.6112 - val_acc: 0.6560\n",
            "Epoch 5/30\n",
            "100/100 [==============================] - 103s 1s/step - loss: 0.5377 - acc: 0.7215 - val_loss: 0.5809 - val_acc: 0.6840\n",
            "Epoch 6/30\n",
            "100/100 [==============================] - 103s 1s/step - loss: 0.5112 - acc: 0.7400 - val_loss: 0.5759 - val_acc: 0.6790\n",
            "Epoch 7/30\n",
            "100/100 [==============================] - 102s 1s/step - loss: 0.4900 - acc: 0.7600 - val_loss: 0.5681 - val_acc: 0.6910\n",
            "Epoch 8/30\n",
            "100/100 [==============================] - 101s 1s/step - loss: 0.4670 - acc: 0.7755 - val_loss: 0.5538 - val_acc: 0.7080\n",
            "Epoch 9/30\n",
            "100/100 [==============================] - 101s 1s/step - loss: 0.4447 - acc: 0.7930 - val_loss: 0.5572 - val_acc: 0.7080\n",
            "Epoch 10/30\n",
            "100/100 [==============================] - 101s 1s/step - loss: 0.4147 - acc: 0.8175 - val_loss: 0.5922 - val_acc: 0.7060\n",
            "Epoch 11/30\n",
            "100/100 [==============================] - 103s 1s/step - loss: 0.3945 - acc: 0.8140 - val_loss: 0.6105 - val_acc: 0.7050\n",
            "Epoch 12/30\n",
            "100/100 [==============================] - 101s 1s/step - loss: 0.3758 - acc: 0.8370 - val_loss: 0.5913 - val_acc: 0.7060\n",
            "Epoch 13/30\n",
            "100/100 [==============================] - 102s 1s/step - loss: 0.3452 - acc: 0.8440 - val_loss: 0.5515 - val_acc: 0.7260\n",
            "Epoch 14/30\n",
            "100/100 [==============================] - 100s 998ms/step - loss: 0.3239 - acc: 0.8610 - val_loss: 0.6072 - val_acc: 0.7220\n",
            "Epoch 15/30\n",
            "100/100 [==============================] - 103s 1s/step - loss: 0.3054 - acc: 0.8755 - val_loss: 0.6696 - val_acc: 0.7110\n",
            "Epoch 16/30\n",
            "100/100 [==============================] - 102s 1s/step - loss: 0.2940 - acc: 0.8805 - val_loss: 0.5566 - val_acc: 0.7350\n",
            "Epoch 17/30\n",
            "100/100 [==============================] - 104s 1s/step - loss: 0.2638 - acc: 0.8990 - val_loss: 0.6050 - val_acc: 0.7380\n",
            "Epoch 18/30\n",
            "100/100 [==============================] - 104s 1s/step - loss: 0.2448 - acc: 0.9080 - val_loss: 0.6978 - val_acc: 0.7180\n",
            "Epoch 19/30\n",
            "100/100 [==============================] - 106s 1s/step - loss: 0.2282 - acc: 0.9135 - val_loss: 0.5756 - val_acc: 0.7460\n",
            "Epoch 20/30\n",
            "100/100 [==============================] - 108s 1s/step - loss: 0.2017 - acc: 0.9300 - val_loss: 0.6121 - val_acc: 0.7380\n",
            "Epoch 21/30\n",
            "100/100 [==============================] - 107s 1s/step - loss: 0.1933 - acc: 0.9280 - val_loss: 0.6405 - val_acc: 0.7350\n",
            "Epoch 22/30\n",
            "100/100 [==============================] - 107s 1s/step - loss: 0.1667 - acc: 0.9390 - val_loss: 0.7305 - val_acc: 0.7270\n",
            "Epoch 23/30\n",
            "100/100 [==============================] - 108s 1s/step - loss: 0.1503 - acc: 0.9490 - val_loss: 0.7171 - val_acc: 0.7290\n",
            "Epoch 24/30\n",
            "100/100 [==============================] - 106s 1s/step - loss: 0.1330 - acc: 0.9535 - val_loss: 0.9589 - val_acc: 0.7010\n",
            "Epoch 25/30\n",
            "100/100 [==============================] - 104s 1s/step - loss: 0.1240 - acc: 0.9605 - val_loss: 0.7337 - val_acc: 0.7260\n",
            "Epoch 26/30\n",
            "100/100 [==============================] - 104s 1s/step - loss: 0.1029 - acc: 0.9690 - val_loss: 0.8142 - val_acc: 0.7360\n",
            "Epoch 27/30\n",
            "100/100 [==============================] - 104s 1s/step - loss: 0.0883 - acc: 0.9720 - val_loss: 0.7773 - val_acc: 0.7400\n",
            "Epoch 28/30\n",
            "100/100 [==============================] - 102s 1s/step - loss: 0.0924 - acc: 0.9705 - val_loss: 0.7695 - val_acc: 0.7410\n",
            "Epoch 29/30\n",
            "100/100 [==============================] - 103s 1s/step - loss: 0.0713 - acc: 0.9820 - val_loss: 0.8888 - val_acc: 0.7370\n",
            "Epoch 30/30\n",
            "100/100 [==============================] - 106s 1s/step - loss: 0.0582 - acc: 0.9830 - val_loss: 0.8367 - val_acc: 0.7460\n"
          ],
          "name": "stdout"
        }
      ]
    },
    {
      "cell_type": "markdown",
      "metadata": {
        "id": "vflSvlx8glEe",
        "colab_type": "text"
      },
      "source": [
        "###Saving the model"
      ]
    },
    {
      "cell_type": "code",
      "metadata": {
        "id": "Co4YIW3cAPMh",
        "colab_type": "code",
        "colab": {}
      },
      "source": [
        "model.save('cats_and_dogs_small_1.h5')"
      ],
      "execution_count": 30,
      "outputs": []
    },
    {
      "cell_type": "markdown",
      "metadata": {
        "id": "UBABVa7ehI53",
        "colab_type": "text"
      },
      "source": [
        "# Displaying curves of loss and accuracy during training\n",
        "\n",
        "> These plots are characteristic of overfitting. The training accuracy increases linearly over time, until it reaches nearly 100%, whereas the validation accuracy stalls at 70–72%.\n",
        "The validation loss reaches its minimum after only five epochs and then stalls, whereas the training loss keeps decreasing linearly until it reaches nearly 0.\n",
        "\n"
      ]
    },
    {
      "cell_type": "code",
      "metadata": {
        "id": "LScCtF3ogpZC",
        "colab_type": "code",
        "colab": {
          "base_uri": "https://localhost:8080/",
          "height": 545
        },
        "outputId": "c2e48032-d411-419d-8139-d3f6f3b8a6d5"
      },
      "source": [
        "import matplotlib.pyplot as plt\n",
        "\n",
        "acc = history.history['acc']\n",
        "val_acc = history.history['val_acc']\n",
        "loss = history.history['loss']\n",
        "val_loss = history.history['val_loss']\n",
        "\n",
        "epochs = range(1, len(acc) + 1)\n",
        "\n",
        "plt.plot(epochs, acc, 'bo', label='Training acc')\n",
        "plt.plot(epochs, val_acc, 'b', label='Validation acc')\n",
        "plt.title('Training and validation accuracy')\n",
        "plt.legend()\n",
        "\n",
        "plt.figure()\n",
        "plt.plot(epochs, loss, 'bo', label='Training loss')\n",
        "plt.plot(epochs, val_loss, 'b', label='Validation loss')\n",
        "plt.title('Training and validation loss')\n",
        "plt.legend()\n",
        "\n",
        "plt.show()"
      ],
      "execution_count": 31,
      "outputs": [
        {
          "output_type": "display_data",
          "data": {
            "image/png": "[encoded data removed]",
            "text/plain": [
              "<Figure size 432x288 with 1 Axes>"
            ]
          },
          "metadata": {
            "tags": [],
            "needs_background": "light"
          }
        },
        {
          "output_type": "display_data",
          "data": {
            "image/png": "[encoded data removed]",
            "text/plain": [
              "<Figure size 432x288 with 1 Axes>"
            ]
          },
          "metadata": {
            "tags": [],
            "needs_background": "light"
          }
        }
      ]
    },
    {
      "cell_type": "code",
      "metadata": {
        "id": "I36z2od_gzbP",
        "colab_type": "code",
        "colab": {}
      },
      "source": [
        ""
      ],
      "execution_count": null,
      "outputs": []
    }
  ]
}