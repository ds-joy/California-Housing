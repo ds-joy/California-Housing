{
  "nbformat": 4,
  "nbformat_minor": 0,
  "metadata": {
    "colab": {
      "name": "dogcatv1.ipynb",
      "provenance": [],
      "mount_file_id": "1i7Ai-95xhCM8lDifOWE0-GXs28qAHVjX",
      "authorship_tag": "ABX9TyNyDzEaQqvO15r0A3FiG81x",
      "include_colab_link": true
    },
    "kernelspec": {
      "name": "python3",
      "display_name": "Python 3"
    }
  },
  "cells": [
    {
      "cell_type": "markdown",
      "metadata": {
        "id": "view-in-github",
        "colab_type": "text"
      },
      "source": [
        "<a href=\"https://colab.research.google.com/github/ds-joy/ML-Practice/blob/master/deep_learning_with_python/chap_05/dogcat_v1_0/dogcatv1.ipynb\" target=\"_parent\"><img src=\"https://colab.research.google.com/assets/colab-badge.svg\" alt=\"Open In Colab\"/></a>"
      ]
    },
    {
      "cell_type": "markdown",
      "metadata": {
        "id": "tTzWajpAqSb8",
        "colab_type": "text"
      },
      "source": [
        "#Loading data into google drive"
      ]
    },
    {
      "cell_type": "code",
      "metadata": {
        "id": "3gASCGxUqW-3",
        "colab_type": "code",
        "colab": {}
      },
      "source": [
        "from google.colab import drive\n",
        "drive.mount('/content/drive')"
      ],
      "execution_count": null,
      "outputs": []
    },
    {
      "cell_type": "code",
      "metadata": {
        "id": "acD74SucqaIf",
        "colab_type": "code",
        "colab": {}
      },
      "source": [
        "#creating the path where to load the data\n",
        "% cd /content/drive/My Drive/Colab Notebooks/dogcatv1"
      ],
      "execution_count": null,
      "outputs": []
    },
    {
      "cell_type": "code",
      "metadata": {
        "id": "uUhcmKO0qpCV",
        "colab_type": "code",
        "colab": {}
      },
      "source": [
        "from google.colab import files\n",
        "files.upload()"
      ],
      "execution_count": null,
      "outputs": []
    },
    {
      "cell_type": "code",
      "metadata": {
        "id": "bdzr79RyrDgF",
        "colab_type": "code",
        "colab": {}
      },
      "source": [
        "!mkdir -p ~/.kaggle\n",
        "!cp kaggle.json ~/.kaggle/\n",
        "!chmod 600 ~/.kaggle/kaggle.json\n",
        "!rm kaggle.json"
      ],
      "execution_count": null,
      "outputs": []
    },
    {
      "cell_type": "code",
      "metadata": {
        "id": "jR46Gcu2rJnI",
        "colab_type": "code",
        "colab": {}
      },
      "source": [
        "!kaggle competitions download -c dogs-vs-cats"
      ],
      "execution_count": null,
      "outputs": []
    },
    {
      "cell_type": "code",
      "metadata": {
        "id": "L6SxFpwtrgxw",
        "colab_type": "code",
        "colab": {
          "base_uri": "https://localhost:8080/",
          "height": 34
        },
        "outputId": "fb8756bf-3fdf-4c26-9404-6cbc1581bd08"
      },
      "source": [
        "!ls"
      ],
      "execution_count": 2,
      "outputs": [
        {
          "output_type": "stream",
          "text": [
            "sample_data\n"
          ],
          "name": "stdout"
        }
      ]
    },
    {
      "cell_type": "code",
      "metadata": {
        "id": "dmcluGB61fkp",
        "colab_type": "code",
        "colab": {}
      },
      "source": [
        "!unzip test1.zip\n",
        "!unzip train.zip"
      ],
      "execution_count": null,
      "outputs": []
    },
    {
      "cell_type": "markdown",
      "metadata": {
        "id": "xqwNM61huUko",
        "colab_type": "text"
      },
      "source": [
        "#Creating test and train directories"
      ]
    },
    {
      "cell_type": "code",
      "metadata": {
        "id": "MJ2CWhe2rnlF",
        "colab_type": "code",
        "colab": {}
      },
      "source": [
        "import os, shutil\n",
        "original_dataset_dir = '/content/drive/My Drive/Colab Notebooks/dogcatv1/'\n",
        "base_dir = '/content/drive/My Drive/Colab Notebooks/dogcatv1/data'"
      ],
      "execution_count": 18,
      "outputs": []
    },
    {
      "cell_type": "markdown",
      "metadata": {
        "id": "yeRqL4K8vYVW",
        "colab_type": "text"
      },
      "source": [
        "###Test, validation and train directories"
      ]
    },
    {
      "cell_type": "code",
      "metadata": {
        "id": "N3570-g-unfZ",
        "colab_type": "code",
        "colab": {}
      },
      "source": [
        "#train directories\n",
        "train_dir = os.path.join(base_dir, 'train')\n",
        "# os.mkdir(train_dir)\n",
        "\n",
        "#validation directories\n",
        "validation_dir = os.path.join(base_dir, 'validation')\n",
        "# os.mkdir(validation_dir)\n",
        "\n",
        "#test directories\n",
        "test_dir = os.path.join(base_dir, 'test')\n",
        "# os.mkdir(test_dir)"
      ],
      "execution_count": 19,
      "outputs": []
    },
    {
      "cell_type": "markdown",
      "metadata": {
        "id": "Ic5II9YpwAoX",
        "colab_type": "text"
      },
      "source": [
        "###Separating cats and dogs directories"
      ]
    },
    {
      "cell_type": "code",
      "metadata": {
        "id": "MQqXMj85v0ma",
        "colab_type": "code",
        "colab": {}
      },
      "source": [
        "train_cats_dir = os.path.join(train_dir, 'cats')\n",
        "# os.mkdir(train_cats_dir)\n",
        "\n",
        "train_dogs_dir = os.path.join(train_dir, 'dogs')\n",
        "# os.mkdir(train_dogs_dir)\n",
        "\n",
        "validation_cats_dir = os.path.join(validation_dir, 'cats')\n",
        "# os.mkdir(validation_cats_dir)\n",
        "\n",
        "validation_dogs_dir = os.path.join(validation_dir, 'dogs')\n",
        "# os.mkdir(validation_dogs_dir)\n",
        "\n",
        "test_cats_dir = os.path.join(test_dir, 'cats')\n",
        "# os.mkdir(test_cats_dir)\n",
        "\n",
        "test_dogs_dir = os.path.join(test_dir, 'dogs')\n",
        "# os.mkdir(test_dogs_dir)"
      ],
      "execution_count": 20,
      "outputs": []
    },
    {
      "cell_type": "code",
      "metadata": {
        "id": "DeVfPs87EDFs",
        "colab_type": "code",
        "colab": {}
      },
      "source": [
        "original_dataset_dir = os.path.join(original_dataset_dir, 'train')\n",
        "from tqdm import tqdm"
      ],
      "execution_count": 21,
      "outputs": []
    },
    {
      "cell_type": "markdown",
      "metadata": {
        "id": "69sr2s5GyJu4",
        "colab_type": "text"
      },
      "source": [
        "###Separating cat photos"
      ]
    },
    {
      "cell_type": "code",
      "metadata": {
        "id": "BiSdm6bXwouH",
        "colab_type": "code",
        "colab": {
          "base_uri": "https://localhost:8080/",
          "height": 67
        },
        "outputId": "5f89eba7-420c-4354-922e-85a8d2559150"
      },
      "source": [
        "# 1000 training photos\n",
        "fnames = ['cat.{}.jpg'.format(i) for i in range(1000)]\n",
        "for fname in tqdm(fnames):\n",
        "    src = os.path.join(original_dataset_dir, fname)\n",
        "    dst = os.path.join(train_cats_dir, fname)\n",
        "    shutil.copyfile(src, dst)\n",
        "\n",
        "# 500 validation photos\n",
        "fnames = ['cat.{}.jpg'.format(i) for i in range(1000, 1500)]\n",
        "for fname in tqdm(fnames):\n",
        "    src = os.path.join(original_dataset_dir, fname)\n",
        "    dst = os.path.join(validation_cats_dir, fname)\n",
        "    shutil.copyfile(src, dst)\n",
        "    \n",
        "# 500 testing photos\n",
        "fnames = ['cat.{}.jpg'.format(i) for i in range(1500, 2000)]\n",
        "for fname in tqdm(fnames):\n",
        "    src = os.path.join(original_dataset_dir, fname)\n",
        "    dst = os.path.join(test_cats_dir, fname)\n",
        "    shutil.copyfile(src, dst)"
      ],
      "execution_count": 17,
      "outputs": [
        {
          "output_type": "stream",
          "text": [
            "100%|██████████| 1000/1000 [01:38<00:00, 10.15it/s]\n",
            "100%|██████████| 500/500 [03:10<00:00,  2.63it/s]\n",
            "100%|██████████| 500/500 [03:00<00:00,  2.77it/s]\n"
          ],
          "name": "stderr"
        }
      ]
    },
    {
      "cell_type": "markdown",
      "metadata": {
        "id": "3dDi5RHa24kN",
        "colab_type": "text"
      },
      "source": [
        "###Separating dog photos"
      ]
    },
    {
      "cell_type": "code",
      "metadata": {
        "id": "dnbuA5yJzUWl",
        "colab_type": "code",
        "colab": {
          "base_uri": "https://localhost:8080/",
          "height": 67
        },
        "outputId": "6d4b19f4-3dbb-44c2-eae0-a26e8fa7b30f"
      },
      "source": [
        "fnames = ['dog.{}.jpg'.format(i) for i in range(1000)]\n",
        "for fname in tqdm(fnames):\n",
        "    src = os.path.join(original_dataset_dir, fname)\n",
        "    dst = os.path.join(train_dogs_dir, fname)\n",
        "    shutil.copyfile(src, dst)\n",
        "fnames = ['dog.{}.jpg'.format(i) for i in range(1000, 1500)]\n",
        "for fname in tqdm(fnames):\n",
        "    src = os.path.join(original_dataset_dir, fname)\n",
        "    dst = os.path.join(validation_dogs_dir, fname)\n",
        "    shutil.copyfile(src, dst)\n",
        "fnames = ['dog.{}.jpg'.format(i) for i in range(1500, 2000)]\n",
        "for fname in tqdm(fnames):\n",
        "    src = os.path.join(original_dataset_dir, fname)\n",
        "    dst = os.path.join(test_dogs_dir, fname)\n",
        "    shutil.copyfile(src, dst)"
      ],
      "execution_count": 22,
      "outputs": [
        {
          "output_type": "stream",
          "text": [
            "100%|██████████| 1000/1000 [06:18<00:00,  2.64it/s]\n",
            "100%|██████████| 500/500 [03:16<00:00,  2.55it/s]\n",
            "100%|██████████| 500/500 [02:57<00:00,  2.81it/s]\n"
          ],
          "name": "stderr"
        }
      ]
    },
    {
      "cell_type": "markdown",
      "metadata": {
        "id": "qmaB5SfC5-FV",
        "colab_type": "text"
      },
      "source": [
        "#Building The network"
      ]
    },
    {
      "cell_type": "code",
      "metadata": {
        "id": "IinJfciW3V-G",
        "colab_type": "code",
        "colab": {}
      },
      "source": [
        "from keras import layers\n",
        "from keras import models\n",
        "model = models.Sequential()\n",
        "model.add(layers.Conv2D(32, (3, 3), activation='relu',\n",
        "                        input_shape=(150, 150, 3)))\n",
        "model.add(layers.MaxPooling2D((2, 2)))\n",
        "model.add(layers.Conv2D(64, (3, 3), activation='relu'))\n",
        "model.add(layers.MaxPooling2D((2, 2)))\n",
        "model.add(layers.Conv2D(128, (3, 3), activation='relu'))\n",
        "model.add(layers.MaxPooling2D((2, 2)))\n",
        "model.add(layers.Conv2D(128, (3, 3), activation='relu'))\n",
        "model.add(layers.MaxPooling2D((2, 2)))\n",
        "model.add(layers.Flatten())\n",
        "model.add(layers.Dense(512, activation='relu'))\n",
        "model.add(layers.Dense(1, activation='sigmoid'))"
      ],
      "execution_count": null,
      "outputs": []
    }
  ]
}