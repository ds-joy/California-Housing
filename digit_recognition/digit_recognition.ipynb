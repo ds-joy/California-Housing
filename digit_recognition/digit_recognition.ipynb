{
  "nbformat": 4,
  "nbformat_minor": 0,
  "metadata": {
    "colab": {
      "name": "digit_recognition.ipynb",
      "provenance": [],
      "authorship_tag": "ABX9TyNkOKPht/mhSCSvRev97ekN",
      "include_colab_link": true
    },
    "kernelspec": {
      "name": "python3",
      "display_name": "Python 3"
    }
  },
  "cells": [
    {
      "cell_type": "markdown",
      "metadata": {
        "id": "view-in-github",
        "colab_type": "text"
      },
      "source": [
        "<a href=\"https://colab.research.google.com/github/ds-joy/ML-Practice/blob/master/digit_recognition/digit_recognition.ipynb\" target=\"_parent\"><img src=\"https://colab.research.google.com/assets/colab-badge.svg\" alt=\"Open In Colab\"/></a>"
      ]
    },
    {
      "cell_type": "markdown",
      "metadata": {
        "id": "NRtUNpPoeDcG",
        "colab_type": "text"
      },
      "source": [
        "# Loading train and test datasets:\n"
      ]
    },
    {
      "cell_type": "code",
      "metadata": {
        "id": "869pDiHKeCg3",
        "colab_type": "code",
        "colab": {}
      },
      "source": [
        "#imported keras for deep learning\n",
        "#the dataset is in mnist\n",
        "from keras.datasets import mnist"
      ],
      "execution_count": 20,
      "outputs": []
    },
    {
      "cell_type": "code",
      "metadata": {
        "id": "jPIFF2tbeT66",
        "colab_type": "code",
        "colab": {}
      },
      "source": [
        "#loading the datasets\n",
        "(train_images, train_labels), (test_images, test_labels) = mnist.load_data()"
      ],
      "execution_count": 21,
      "outputs": []
    },
    {
      "cell_type": "markdown",
      "metadata": {
        "id": "Aht3vyUPfhPp",
        "colab_type": "text"
      },
      "source": [
        "#Shapes:\n",
        "\n",
        "> There are 60000 tarinig images with their lebels. Each image is a numpy array with 28 rows and 28 columns as in 28*28 matrix.\n",
        "\n",
        "\n",
        "> There are 1000 testing images with their lebels. Each image is a numpy array with 28 rows and 28 columns as in 28*28 matrix.\n",
        "\n",
        "\n",
        "\n"
      ]
    },
    {
      "cell_type": "code",
      "metadata": {
        "id": "EYSSZKlSe4f4",
        "colab_type": "code",
        "colab": {
          "base_uri": "https://localhost:8080/",
          "height": 34
        },
        "outputId": "2ea42e11-c4b5-445a-9661-d0ce9b00e6f8"
      },
      "source": [
        "train_images.shape\n"
      ],
      "execution_count": 22,
      "outputs": [
        {
          "output_type": "execute_result",
          "data": {
            "text/plain": [
              "(60000, 28, 28)"
            ]
          },
          "metadata": {
            "tags": []
          },
          "execution_count": 22
        }
      ]
    },
    {
      "cell_type": "code",
      "metadata": {
        "id": "kUsiDPURfMZm",
        "colab_type": "code",
        "colab": {
          "base_uri": "https://localhost:8080/",
          "height": 34
        },
        "outputId": "4bf40df7-7cb1-4424-9079-03c304c2aa94"
      },
      "source": [
        "train_labels"
      ],
      "execution_count": 23,
      "outputs": [
        {
          "output_type": "execute_result",
          "data": {
            "text/plain": [
              "array([5, 0, 4, ..., 5, 6, 8], dtype=uint8)"
            ]
          },
          "metadata": {
            "tags": []
          },
          "execution_count": 23
        }
      ]
    },
    {
      "cell_type": "code",
      "metadata": {
        "id": "_d3IL8x7gVVP",
        "colab_type": "code",
        "colab": {
          "base_uri": "https://localhost:8080/",
          "height": 34
        },
        "outputId": "ba7c2480-8141-416b-ca3c-be827b0fa1bf"
      },
      "source": [
        "train_images.shape\n"
      ],
      "execution_count": 24,
      "outputs": [
        {
          "output_type": "execute_result",
          "data": {
            "text/plain": [
              "(60000, 28, 28)"
            ]
          },
          "metadata": {
            "tags": []
          },
          "execution_count": 24
        }
      ]
    },
    {
      "cell_type": "code",
      "metadata": {
        "id": "gRA6zZF3gamo",
        "colab_type": "code",
        "colab": {
          "base_uri": "https://localhost:8080/",
          "height": 34
        },
        "outputId": "ec13e9f0-f9ab-49c8-c7ad-b9afd69cc13e"
      },
      "source": [
        "train_labels"
      ],
      "execution_count": 25,
      "outputs": [
        {
          "output_type": "execute_result",
          "data": {
            "text/plain": [
              "array([5, 0, 4, ..., 5, 6, 8], dtype=uint8)"
            ]
          },
          "metadata": {
            "tags": []
          },
          "execution_count": 25
        }
      ]
    },
    {
      "cell_type": "markdown",
      "metadata": {
        "id": "A6AWog3Bhgoz",
        "colab_type": "text"
      },
      "source": [
        "#The network architecture:"
      ]
    },
    {
      "cell_type": "code",
      "metadata": {
        "id": "gWk6q8U-gdnO",
        "colab_type": "code",
        "colab": {}
      },
      "source": [
        "from keras import models\n",
        "from keras import layers\n",
        "network = models.Sequential()\n",
        "network.add(layers.Dense(512, activation='relu', input_shape=(28 * 28,)))\n",
        "network.add(layers.Dense(10, activation='softmax'))"
      ],
      "execution_count": 26,
      "outputs": []
    },
    {
      "cell_type": "markdown",
      "metadata": {
        "id": "s55beQbyjWfw",
        "colab_type": "text"
      },
      "source": [
        "#The compilation step:"
      ]
    },
    {
      "cell_type": "code",
      "metadata": {
        "id": "DWkd6VPfhwQT",
        "colab_type": "code",
        "colab": {}
      },
      "source": [
        "network.compile(optimizer='rmsprop',\n",
        "                loss='categorical_crossentropy',\n",
        "                metrics=['accuracy'])"
      ],
      "execution_count": 27,
      "outputs": []
    },
    {
      "cell_type": "markdown",
      "metadata": {
        "id": "oG028HCQj8KB",
        "colab_type": "text"
      },
      "source": [
        "#Preparing the image data\n",
        "\n",
        "> Before training, we’ll preprocess the data by reshaping it into the shape the network\n",
        "expects and scaling it so that all values are in the [0, 1] interval. Previously, our training images, for instance, were stored in an array of shape (60000, 28, 28) of type\n",
        "uint8 with values in the [0, 255] interval. We transform it into a float32 array of\n",
        "shape (60000, 28 * 28) with values between 0 and 1.\n",
        "\n"
      ]
    },
    {
      "cell_type": "code",
      "metadata": {
        "id": "kwgKiPqNjlpb",
        "colab_type": "code",
        "colab": {}
      },
      "source": [
        "train_images = train_images.reshape((60000, 28 * 28))\n",
        "train_images = train_images.astype('float32') / 255\n",
        "\n",
        "test_images = test_images.reshape((10000, 28 * 28))\n",
        "test_images = test_images.astype('float32') / 255"
      ],
      "execution_count": 28,
      "outputs": []
    },
    {
      "cell_type": "markdown",
      "metadata": {
        "id": "yzewVCdCkxGv",
        "colab_type": "text"
      },
      "source": [
        "#Preparing the labels"
      ]
    },
    {
      "cell_type": "code",
      "metadata": {
        "id": "09QRY3f7kUD_",
        "colab_type": "code",
        "colab": {}
      },
      "source": [
        "from keras.utils import to_categorical\n",
        "train_labels = to_categorical(train_labels)\n",
        "test_labels = to_categorical(test_labels)"
      ],
      "execution_count": 29,
      "outputs": []
    },
    {
      "cell_type": "markdown",
      "metadata": {
        "id": "qfZZ10TOlwl_",
        "colab_type": "text"
      },
      "source": [
        "#Training the network:\n",
        "\n",
        "\n",
        "> We’re now ready to train the network, which in Keras is done via a call to the network’s fit method—we fit the model to its training data:\n",
        "\n"
      ]
    },
    {
      "cell_type": "code",
      "metadata": {
        "id": "hWa100ntlNsA",
        "colab_type": "code",
        "colab": {
          "base_uri": "https://localhost:8080/",
          "height": 235
        },
        "outputId": "8c6ab298-69d7-4a05-a9d6-a35124919ef5"
      },
      "source": [
        "network.fit(train_images, train_labels, epochs=6, batch_size=128)"
      ],
      "execution_count": 34,
      "outputs": [
        {
          "output_type": "stream",
          "text": [
            "Epoch 1/6\n",
            "469/469 [==============================] - 4s 9ms/step - loss: 0.0018 - accuracy: 0.9996\n",
            "Epoch 2/6\n",
            "469/469 [==============================] - 4s 8ms/step - loss: 0.0012 - accuracy: 0.9997\n",
            "Epoch 3/6\n",
            "469/469 [==============================] - 4s 9ms/step - loss: 0.0012 - accuracy: 0.9997\n",
            "Epoch 4/6\n",
            "469/469 [==============================] - 4s 9ms/step - loss: 8.8986e-04 - accuracy: 0.9998\n",
            "Epoch 5/6\n",
            "469/469 [==============================] - 4s 9ms/step - loss: 6.4986e-04 - accuracy: 0.9998\n",
            "Epoch 6/6\n",
            "469/469 [==============================] - 4s 9ms/step - loss: 5.1545e-04 - accuracy: 0.9999\n"
          ],
          "name": "stdout"
        },
        {
          "output_type": "execute_result",
          "data": {
            "text/plain": [
              "<tensorflow.python.keras.callbacks.History at 0x7fbdd5157ba8>"
            ]
          },
          "metadata": {
            "tags": []
          },
          "execution_count": 34
        }
      ]
    },
    {
      "cell_type": "markdown",
      "metadata": {
        "id": "pQFXodfhm1ZR",
        "colab_type": "text"
      },
      "source": [
        "#Testing on test dataset:\n",
        "\n",
        "\n",
        "> The test-set accuracy turns out to be 98.2%—that’s quite a bit lower than the training\n",
        "set accuracy. This gap between training accuracy and test accuracy is an example of\n",
        "overfitting: the fact that machine-learning models tend to perform worse on new data\n",
        "than on their training data\n",
        "\n"
      ]
    },
    {
      "cell_type": "code",
      "metadata": {
        "id": "hn3brZF3l7cy",
        "colab_type": "code",
        "colab": {
          "base_uri": "https://localhost:8080/",
          "height": 50
        },
        "outputId": "1157b8f9-8289-4152-f3f0-c830b06ee6ee"
      },
      "source": [
        "test_loss, test_acc = network.evaluate(test_images, test_labels)\n",
        "print('test_acc:', test_acc)"
      ],
      "execution_count": 36,
      "outputs": [
        {
          "output_type": "stream",
          "text": [
            "313/313 [==============================] - 1s 2ms/step - loss: 0.0981 - accuracy: 0.9829\n",
            "test_acc: 0.9829000234603882\n"
          ],
          "name": "stdout"
        }
      ]
    }
  ]
}